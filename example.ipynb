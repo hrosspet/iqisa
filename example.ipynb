{
 "cells": [
  {
   "cell_type": "code",
   "execution_count": 1,
   "metadata": {},
   "outputs": [],
   "source": [
    "import gjp\n",
    "import statistics\n",
    "import numpy as np\n",
    "import pandas as pd\n",
    "import iqisa as iqs"
   ]
  },
  {
   "cell_type": "code",
   "execution_count": 2,
   "metadata": {
    "scrolled": true
   },
   "outputs": [
    {
     "name": "stderr",
     "output_type": "stream",
     "text": [
      "/home/niplav/proj/iqisa/gjp.py:326: DtypeWarning: Columns (8) have mixed types.Specify dtype option on import or set low_memory=False.\n",
      "  forecasts=load_complete_markets(files)\n",
      "/usr/lib/python3/dist-packages/dateutil/parser/_parser.py:1199: UnknownTimezoneWarning: tzname EDT identified but not understood.  Pass `tzinfos` argument in order to correctly return a timezone-aware datetime.  In a future version, this will raise an exception.\n",
      "  warnings.warn(\"tzname {tzname} identified but not understood.  \"\n",
      "/usr/lib/python3/dist-packages/dateutil/parser/_parser.py:1199: UnknownTimezoneWarning: tzname EST identified but not understood.  Pass `tzinfos` argument in order to correctly return a timezone-aware datetime.  In a future version, this will raise an exception.\n",
      "  warnings.warn(\"tzname {tzname} identified but not understood.  \"\n",
      "/home/niplav/proj/iqisa/gjp.py:326: DtypeWarning: Columns (6,7,9,21) have mixed types.Specify dtype option on import or set low_memory=False.\n",
      "  forecasts=load_complete_markets(files)\n"
     ]
    }
   ],
   "source": [
    "market_fcasts=gjp.load_markets()\n",
    "survey_fcasts=gjp.load_surveys()\n",
    "gjp_questions=gjp.load_questions()"
   ]
  },
  {
   "cell_type": "code",
   "execution_count": 3,
   "metadata": {},
   "outputs": [
    {
     "name": "stdout",
     "output_type": "stream",
     "text": [
      "(793501, 15)\n",
      "(3143460, 15)\n",
      "(617, 14)\n"
     ]
    }
   ],
   "source": [
    "print(market_fcasts.shape)\n",
    "print(survey_fcasts.shape)\n",
    "print(gjp_questions.shape)"
   ]
  },
  {
   "cell_type": "code",
   "execution_count": 4,
   "metadata": {},
   "outputs": [],
   "source": [
    "def brier_score(probabilities, outcomes, *args):\n",
    "        return np.mean((probabilities-outcomes)**2)\n",
    "\n",
    "trader_scores=iqs.score(market_fcasts, brier_score, on=['user_id'])\n",
    "filtered_trader_scores=iqs.score(market_fcasts.groupby(['user_id']).filter(lambda x: len(x)>100), brier_score, on=['user_id'])\n",
    "highly_filtered_trader_scores=iqs.score(market_fcasts.groupby(['user_id']).filter(lambda x: len(x)>1000), brier_score, on=['user_id'])"
   ]
  },
  {
   "cell_type": "code",
   "execution_count": 5,
   "metadata": {
    "scrolled": true
   },
   "outputs": [
    {
     "name": "stdout",
     "output_type": "stream",
     "text": [
      "             score\n",
      "count  2408.000000\n",
      "mean      0.159125\n",
      "std       0.079836\n",
      "min       0.000100\n",
      "25%       0.117289\n",
      "50%       0.151209\n",
      "75%       0.186772\n",
      "max       0.792100\n",
      "            score\n",
      "count  967.000000\n",
      "mean     0.159525\n",
      "std      0.052282\n",
      "min      0.024330\n",
      "25%      0.129488\n",
      "50%      0.155539\n",
      "75%      0.181879\n",
      "max      0.685084\n",
      "            score\n",
      "count  138.000000\n",
      "mean     0.151327\n",
      "std      0.037286\n",
      "min      0.044546\n",
      "25%      0.129421\n",
      "50%      0.150234\n",
      "75%      0.175377\n",
      "max      0.248004\n"
     ]
    }
   ],
   "source": [
    "print(trader_scores.describe())\n",
    "print(filtered_trader_scores.describe())\n",
    "print(highly_filtered_trader_scores.describe())"
   ]
  },
  {
   "cell_type": "code",
   "execution_count": 6,
   "metadata": {},
   "outputs": [
    {
     "data": {
      "image/png": "[encoded data removed]",
      "text/plain": [
       "<Figure size 1152x432 with 1 Axes>"
      ]
     },
     "metadata": {
      "needs_background": "light"
     },
     "output_type": "display_data"
    }
   ],
   "source": [
    "import matplotlib.pyplot as plt\n",
    "%matplotlib inline\n",
    "\n",
    "plt.figure(figsize=(16,6))\n",
    "plt.hist(trader_scores['score'], bins=100, density=True, alpha=0.5, align='mid', color='blue')\n",
    "plt.hist(filtered_trader_scores['score'], bins=100, density=True, alpha=0.5, align='mid', color='red')\n",
    "plt.hist(highly_filtered_trader_scores['score'], bins=50, density=True, alpha=0.5, align='mid', color='green')\n",
    "plt.grid()"
   ]
  },
  {
   "cell_type": "markdown",
   "metadata": {},
   "source": [
    "### Different Analyses\n",
    "\n",
    "When wanting to know how well groups of forecasters perform, we can perform different kinds of analyses, with different kinds of aggregated parts of the dataset.\n",
    "\n",
    "1. We score forecasters, and sort them by their score.\n",
    "2. We randomly choose groups of forecasters of size $2 \\le i \\le n$ (for some maximal $n$) and then compute the score of those groups. On average, what percentile of forecaster performance does a group of size $i$ find itself in?\n",
    "    1. We also aggregate the forecasts from those groups in a smarter way.\n",
    "3. We score teams of forecasters and find out what percentile of forecaster performance each team finds themselves in.\n",
    "    1. We also aggregate the forecasts from those teams in a smarter way."
   ]
  },
  {
   "cell_type": "code",
   "execution_count": 7,
   "metadata": {},
   "outputs": [],
   "source": [
    "max_group_size=100\n",
    "sample_size=100\n",
    "groups=[np.random.choice(np.unique(market_fcasts['user_id']), size=(sample_size, i)) for i in range(2, max_group_size)]"
   ]
  },
  {
   "cell_type": "code",
   "execution_count": 8,
   "metadata": {},
   "outputs": [],
   "source": [
    "def geom_odds_aggr(forecasts):\n",
    "    probabilities=forecasts['probability']\n",
    "    probabilities=probabilities/(1-probabilities)\n",
    "    aggregated=statistics.geometric_mean(probabilities)\n",
    "    aggregated=aggregated/(1+aggregated)\n",
    "    return np.array([aggregated])"
   ]
  },
  {
   "cell_type": "code",
   "execution_count": null,
   "metadata": {},
   "outputs": [],
   "source": [
    "all_group_scores=pd.DataFrame(columns=['size', 'score', 'aggregated'])\n",
    "for i in range(0, max_group_size-2):\n",
    "    for group in groups[i]:\n",
    "        group_table=pd.DataFrame({'user_id': group})\n",
    "        group_forecasts=pd.merge(market_fcasts, group_table, on=['user_id'], how='inner')\n",
    "        aggregated_group_forecasts=iqs.aggregate(group_forecasts, geom_odds_aggr)\n",
    "        group_scores=iqs.score(group_forecasts, brier_score)['score']\n",
    "        aggregated_group_scores=iqs.score_aggregations(aggregated_group_forecasts, brier_score)['score']\n",
    "        group_score=np.mean(group_scores)\n",
    "        aggregated_group_score=np.mean(aggregated_group_scores)\n",
    "        nf=pd.DataFrame({'size': [i+2, i+2], 'score': [group_score, aggregated_group_score], 'aggregated': [False, True]})\n",
    "        all_group_scores=pd.concat([all_group_scores, nf])"
   ]
  },
  {
   "cell_type": "code",
   "execution_count": null,
   "metadata": {},
   "outputs": [],
   "source": [
    "group_scores=all_group_scores.groupby(['size', 'aggregated']).apply(lambda x: np.mean(x['score']))\n",
    "group_scores=group_scores.reset_index(name='score')\n",
    "group_scores['percentile']=group_scores['score'].apply(lambda x: len(np.where(trader_scores['score']>x)[0])/len(trader_scores))\n",
    "group_scores"
   ]
  },
  {
   "cell_type": "code",
   "execution_count": null,
   "metadata": {},
   "outputs": [],
   "source": [
    "notaggregated=group_scores.loc[group_scores['aggregated']==False].set_index(['size'])\n",
    "aggregated=group_scores.loc[group_scores['aggregated']==True].set_index(['size'])\n",
    "fig=plt.figure(figsize=(16,6))\n",
    "plt.xlabel('Forecaster group size')\n",
    "plt.ylabel('Group score percentile')\n",
    "plt.plot(notaggregated['percentile'], color='blue', label='not aggregated percentile')\n",
    "plt.plot(aggregated['percentile'], color='red', label='aggregated percentile')\n",
    "\n",
    "plt.legend(loc='lower left')"
   ]
  }
 ],
 "metadata": {
  "kernelspec": {
   "display_name": "Python 3",
   "language": "python",
   "name": "python3"
  },
  "language_info": {
   "codemirror_mode": {
    "name": "ipython",
    "version": 3
   },
   "file_extension": ".py",
   "mimetype": "text/x-python",
   "name": "python",
   "nbconvert_exporter": "python",
   "pygments_lexer": "ipython3",
   "version": "3.8.10"
  }
 },
 "nbformat": 4,
 "nbformat_minor": 4
}
