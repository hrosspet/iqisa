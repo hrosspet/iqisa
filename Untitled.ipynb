{
 "cells": [
  {
   "cell_type": "code",
   "execution_count": 7,
   "metadata": {},
   "outputs": [],
   "source": [
    "import gjp\n",
    "import numpy as np"
   ]
  },
  {
   "cell_type": "code",
   "execution_count": 3,
   "metadata": {},
   "outputs": [],
   "source": [
    "m=gjp.Markets()\n",
    "m.load()\n",
    "s=gjp.Surveys()\n",
    "s.load()"
   ]
  },
  {
   "cell_type": "code",
   "execution_count": 5,
   "metadata": {},
   "outputs": [
    {
     "name": "stdout",
     "output_type": "stream",
     "text": [
      "(735432, 16)\n",
      "(617, 14)\n",
      "(3143460, 16)\n",
      "(617, 14)\n"
     ]
    }
   ],
   "source": [
    "print(m.forecasts.shape)\n",
    "print(m.questions.shape)\n",
    "print(s.forecasts.shape)\n",
    "print(s.questions.shape)"
   ]
  },
  {
   "cell_type": "code",
   "execution_count": 18,
   "metadata": {},
   "outputs": [],
   "source": [
    "def brier_score_user(user_forecasts):\n",
    "    user_right=(user_forecasts['outcome']==user_forecasts['answer_option'])\n",
    "    probabilities=user_forecasts['probability']\n",
    "    return np.mean((probabilities-user_right)**2)\n",
    "\n",
    "trader_scores=m.forecasts.groupby(['user_id']).apply(brier_score_user)\n",
    "filtered_trader_scores=m.forecasts.groupby(['user_id']).filter(lambda x: len(x)>100).groupby(['user_id']).apply(brier_score_user)\n",
    "highly_filtered_trader_scores=m.forecasts.groupby(['user_id']).filter(lambda x: len(x)>1000).groupby(['user_id']).apply(brier_score_user)"
   ]
  },
  {
   "cell_type": "code",
   "execution_count": 22,
   "metadata": {},
   "outputs": [
    {
     "name": "stdout",
     "output_type": "stream",
     "text": [
      "count    2476.000000\n",
      "mean        0.161461\n",
      "std         0.084534\n",
      "min         0.000100\n",
      "25%         0.117173\n",
      "50%         0.152323\n",
      "75%         0.188074\n",
      "max         0.792100\n",
      "dtype: float64\n",
      "count    996.000000\n",
      "mean       0.160143\n",
      "std        0.054339\n",
      "min        0.018641\n",
      "25%        0.129453\n",
      "50%        0.157529\n",
      "75%        0.182762\n",
      "max        0.722772\n",
      "dtype: float64\n",
      "count    152.000000\n",
      "mean       0.150134\n",
      "std        0.039569\n",
      "min        0.042081\n",
      "25%        0.126861\n",
      "50%        0.151379\n",
      "75%        0.175575\n",
      "max        0.248622\n",
      "dtype: float64\n"
     ]
    }
   ],
   "source": [
    "print(trader_scores.describe())\n",
    "print(filtered_trader_scores.describe())\n",
    "print(highly_filtered_trader_scores.describe())"
   ]
  },
  {
   "cell_type": "code",
   "execution_count": 21,
   "metadata": {},
   "outputs": [
    {
     "data": {
      "image/png": "[encoded data removed]",
      "text/plain": [
       "<Figure size 1152x432 with 1 Axes>"
      ]
     },
     "metadata": {
      "needs_background": "light"
     },
     "output_type": "display_data"
    }
   ],
   "source": [
    "import matplotlib.pyplot as plt\n",
    "%matplotlib inline\n",
    "\n",
    "plt.figure(figsize=(16,6))\n",
    "plt.hist(trader_scores, bins=100, density=True, alpha=0.5, align='mid', color='blue')\n",
    "plt.hist(filtered_trader_scores, bins=100, density=True, alpha=0.5, align='mid', color='red')\n",
    "plt.hist(highly_filtered_trader_scores, bins=50, density=True, alpha=0.5, align='mid', color='green')\n",
    "plt.grid()"
   ]
  },
  {
   "cell_type": "code",
   "execution_count": null,
   "metadata": {},
   "outputs": [],
   "source": []
  }
 ],
 "metadata": {
  "kernelspec": {
   "display_name": "Python 3",
   "language": "python",
   "name": "python3"
  },
  "language_info": {
   "codemirror_mode": {
    "name": "ipython",
    "version": 3
   },
   "file_extension": ".py",
   "mimetype": "text/x-python",
   "name": "python",
   "nbconvert_exporter": "python",
   "pygments_lexer": "ipython3",
   "version": "3.8.10"
  }
 },
 "nbformat": 4,
 "nbformat_minor": 4
}
